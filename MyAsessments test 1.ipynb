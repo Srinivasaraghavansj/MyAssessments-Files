{
 "cells": [
  {
   "cell_type": "markdown",
   "metadata": {},
   "source": [
    "# MyAssessments Python Assessment\n",
    "Please fill up your details below"
   ]
  },
  {
   "cell_type": "code",
   "execution_count": 1,
   "metadata": {},
   "outputs": [],
   "source": [
    "def candidate_details(): #This line should not be modified.\n",
    "    name = \"Your Name here\" # The string can be modified\n",
    "    email = \"your email@address.com\" # The string can be modified\n",
    "    dept = \"Your department name\" # The string can be modified\n",
    "    college = \"Your college name\" # The string can be modified\n",
    "    \n",
    "    return name,email,dept,college #This line should not be modified."
   ]
  },
  {
   "cell_type": "markdown",
   "metadata": {},
   "source": [
    "Your answers will be tested and evaluated with more test cases apart from the ones shown here.\n",
    "\n",
    "So, all the best!"
   ]
  },
  {
   "cell_type": "markdown",
   "metadata": {},
   "source": [
    "### Question 1\n",
    "*(10 marks)*\n",
    "\n",
    "Write a Simple interest function using python.\n",
    "\n",
    "Simple interest formula is given by:\n",
    "\n",
    "Simple Interest = (P x T x R)/100\n",
    "\n",
    "Where,\n",
    "P is the principle amount\n",
    "T is the time and\n",
    "R is the rate\n",
    "\n",
    "Total amount = simple interest + pricipal ampunt\n",
    "\n",
    "The required inputs are already given as arguments, calculate Simple interest, total amount and return."
   ]
  },
  {
   "cell_type": "code",
   "execution_count": null,
   "metadata": {
    "id": "VeBPFWfnaGZs",
    "outputId": "f871d31f-da04-43b8-bb31-4474252a2f6b",
    "scrolled": true
   },
   "outputs": [],
   "source": [
    "def simple_interest_calculator(P,R,T): #This line should not be modified.\n",
    "    # your code here, add how many ever lines of code you want\n",
    "    # hint:simple_interest=?\n",
    "    # hint:total_amount=?\n",
    "    return si,ta #This line should not be modified."
   ]
  },
  {
   "cell_type": "code",
   "execution_count": null,
   "metadata": {},
   "outputs": [],
   "source": [
    "#This cell should not be modified.\n",
    "simple_interest_calculator(4256,7,34)# expected answer is (10129.28,14385.28)"
   ]
  },
  {
   "cell_type": "markdown",
   "metadata": {
    "id": "wviAZlwOaGZt",
    "outputId": "78901ffb-594b-4807-d4b0-7ceb1c4da0fe"
   },
   "source": [
    "### Question 2\n",
    "*(35 marks)*\n",
    "\n",
    "Write a program to find if it is an armstrong number.\n",
    "\n",
    "How is Armstrong number calculated?\n",
    "A number is an Armstrong Number or narcissistic number,\n",
    "if it is equal to the sum of its own digits raised to,\n",
    "the power of the number of digits.\n",
    "An example: 371 = 3^3 + 7^3 + 1^3 = 27 + 343 + 1 = 371.\n",
    "Another: 1634 = 1^4 + 6^4 + 3^4 + 4^4 = 1 + 1296 + 81 + 256 = 1634.\n",
    "\n",
    "The number n is given as argument and ur program needs to return either True or False\n"
   ]
  },
  {
   "cell_type": "code",
   "execution_count": null,
   "metadata": {
    "id": "KZY1eDTjaGZt",
    "outputId": "e276837d-e33b-4e3a-f50f-58344e413236",
    "scrolled": true
   },
   "outputs": [],
   "source": [
    "def is_armstrong(n):#This line should not be modified. All further lines can be modified.\n",
    "    #your code here, add how many ever lines of code you want\n",
    "    return True #return True example.This line can be modified."
   ]
  },
  {
   "cell_type": "code",
   "execution_count": null,
   "metadata": {},
   "outputs": [],
   "source": [
    "#This cell should not be modified.\n",
    "is_armstrong(371) # Output should be True"
   ]
  },
  {
   "cell_type": "code",
   "execution_count": null,
   "metadata": {},
   "outputs": [],
   "source": [
    "#This cell should not be modified.\n",
    "is_armstrong(6) # Output should be False"
   ]
  },
  {
   "cell_type": "markdown",
   "metadata": {
    "id": "7GOXcaHCaGZu",
    "outputId": "62e0844b-6cb3-4253-e231-e6eaa73c2489"
   },
   "source": [
    "### Question 3\n",
    "*(15 marks)*\n",
    "\n",
    "Write a program to check if the entered username\n",
    "and password are matching the correct username and password.\n",
    "\n",
    "The number n is given as argument and ur program needs to return either True or False"
   ]
  },
  {
   "cell_type": "code",
   "execution_count": null,
   "metadata": {
    "scrolled": true
   },
   "outputs": [],
   "source": [
    "def username_password_checker(username,password):#This line should not be modified.\n",
    "    correct_username = \"Admin\"#This line should not be modified.\n",
    "    correct_password = \"Pass\"#This line should not be modified.\n",
    "    \n",
    "    #your code here, add how many ever lines of code you want\n",
    "    return True #return True example.This line can be modified."
   ]
  },
  {
   "cell_type": "code",
   "execution_count": null,
   "metadata": {},
   "outputs": [],
   "source": [
    "#This cell should not be modified.\n",
    "username_password_checker(\"Admin\",\"Pass\") # Output should be True"
   ]
  },
  {
   "cell_type": "code",
   "execution_count": null,
   "metadata": {},
   "outputs": [],
   "source": [
    "#This cell should not be modified.\n",
    "username_password_checker(\"wrong\",\"credentials\") # Output should be False"
   ]
  },
  {
   "cell_type": "markdown",
   "metadata": {
    "id": "XZLwitpdaGZv",
    "outputId": "ae7cfe3f-c5d2-4d60-e63f-033a83b6649a"
   },
   "source": [
    "### Question 4\n",
    "*(40 marks)*\n",
    "\n",
    "Write a program to generate Fibonacci series,\n",
    "for the first n numbers.\n",
    "\n",
    "It is a series of numbers in which each number ( Fibonacci number ) is\n",
    "the sum of the two preceding numbers.\n",
    "\n",
    "Example: it starts with -1 and 1\n",
    "\n",
    "\n",
    "* -1+1 = 0\n",
    "* 1 + 0 = 1\n",
    "* 0 + 1 = 1\n",
    "* 1 + 1 = 2\n",
    "* 1 + 2 = 3\n",
    "* 2 + 3 = 5\n",
    "* 3 + 5 = 8\n",
    "* and so on\n",
    "\n",
    "So, the series is [0, 1, 1, 2, 3, 5, 8, 13, 21] when n=9.\n",
    "\n",
    "The number n is given as argument and ur program needs to return the list of fibonacci series"
   ]
  },
  {
   "cell_type": "code",
   "execution_count": null,
   "metadata": {},
   "outputs": [],
   "source": [
    "def fibonacci_series_list_generator(n):#This line should not be modified.\n",
    "    fibo_series = [] #This line should not be modified.\n",
    "    #Hint create a fibonacci series loop and append elements to the list called as fibo_series\n",
    "    # Your code here\n",
    "    #fibo_series = ?\n",
    "    return fibo_series"
   ]
  },
  {
   "cell_type": "code",
   "execution_count": null,
   "metadata": {},
   "outputs": [],
   "source": [
    "#This cell should not be modified.\n",
    "fibonacci_series_list_generator(6)# Output should be [0,1,1,2,3,5]"
   ]
  },
  {
   "cell_type": "markdown",
   "metadata": {
    "id": "JwVeD58gaGZv",
    "outputId": "8a3238ce-0a93-4283-ae3a-317f46a09ea0"
   },
   "source": [
    "### Question 5\n",
    "#### Optional Bonus Question\n",
    "*(40 marks)*\n",
    "\n",
    "The **Pass Mark** for this test is **40**. If you're unable to score well in the above questions, take help of this question to get u bonus marks ;)\n",
    "\n",
    "Write a program to check whether a given number is prime and return True or False accordingly\n"
   ]
  },
  {
   "cell_type": "code",
   "execution_count": null,
   "metadata": {
    "id": "C5aqosQwaGZw"
   },
   "outputs": [],
   "source": [
    "def is_prime(n):#This line should not be modified.\n",
    "    #your code here\n",
    "    return True #return True example.This line can be modified."
   ]
  },
  {
   "cell_type": "code",
   "execution_count": null,
   "metadata": {},
   "outputs": [],
   "source": [
    "#This cell should not be modified.\n",
    "is_prime(7) # Output should be True"
   ]
  },
  {
   "cell_type": "code",
   "execution_count": null,
   "metadata": {},
   "outputs": [],
   "source": [
    "#This cell should not be modified.\n",
    "is_prime(10) # Output should be False"
   ]
  },
  {
   "cell_type": "markdown",
   "metadata": {},
   "source": [
    "Good job! Don't worry about the results\n",
    "\n",
    "Upload this file in https://forms.gle/eXsGfqYTqzKLAb1X9"
   ]
  }
 ],
 "metadata": {
  "colab": {
   "name": "Py Prog 1.ipynb",
   "provenance": []
  },
  "kernelspec": {
   "display_name": "Python 3",
   "language": "python",
   "name": "python3"
  },
  "language_info": {
   "codemirror_mode": {
    "name": "ipython",
    "version": 3
   },
   "file_extension": ".py",
   "mimetype": "text/x-python",
   "name": "python",
   "nbconvert_exporter": "python",
   "pygments_lexer": "ipython3",
   "version": "3.8.5"
  }
 },
 "nbformat": 4,
 "nbformat_minor": 1
}
